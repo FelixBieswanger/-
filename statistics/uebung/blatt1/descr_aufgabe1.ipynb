{
 "metadata": {
  "language_info": {
   "codemirror_mode": {
    "name": "ipython",
    "version": 3
   },
   "file_extension": ".py",
   "mimetype": "text/x-python",
   "name": "python",
   "nbconvert_exporter": "python",
   "pygments_lexer": "ipython3",
   "version": "3.8.4-final"
  },
  "orig_nbformat": 2,
  "kernelspec": {
   "name": "python3",
   "display_name": "Python 3"
  }
 },
 "nbformat": 4,
 "nbformat_minor": 2,
 "cells": [
  {
   "cell_type": "code",
   "execution_count": 3,
   "metadata": {},
   "outputs": [],
   "source": [
    "import math\n",
    "import matplotlib.pyplot as plt"
   ]
  },
  {
   "cell_type": "code",
   "execution_count": 4,
   "metadata": {},
   "outputs": [],
   "source": [
    "data = [150,121,125,125,160,180,160,130,150,125]\n",
    "data1 = [150,121,125,125,160,810,160,130,150,125]"
   ]
  },
  {
   "source": [
    "### Emprische Quartil\n",
    "\n",
    "Für jede Zahl p zwischen 0,1 teilt ein empirisches p-Quantil die Stichprobe so, dass ein Anteil der Stichprobe von p kleiner als das empirische p-Quantil ist und ein Anteil von 1−p der Stichprobe größer als das empirische p-Quantil ist."
   ],
   "cell_type": "markdown",
   "metadata": {}
  },
  {
   "cell_type": "code",
   "execution_count": 5,
   "metadata": {},
   "outputs": [
    {
     "output_type": "stream",
     "name": "stdout",
     "text": [
      "data 155.0\ndata1 155.0\n"
     ]
    }
   ],
   "source": [
    "def emp_quartil(data,p):\n",
    "    data.sort() # geordnete stichprobe\n",
    "\n",
    "    n_p = len(data)*p\n",
    "    k = math.floor(len(data)*p) -1 # Umsetzung der unteren Gausklammer ; +1 da array von 0\n",
    "\n",
    "    if not n_p.is_integer(): # wenn in den natürlichen Zahlen\n",
    "        return data[k+1]\n",
    "\n",
    "    else:\n",
    "        return 0.5 * (data[k]+data[k+1])\n",
    "\n",
    "print(\"data\",emp_quartil(data,p=0.7))\n",
    "print(\"data1\",emp_quartil(data1,p=0.7))\n"
   ]
  },
  {
   "source": [
    "### Arithmetisches/ Stichproben Mittel\n",
    "\n"
   ],
   "cell_type": "markdown",
   "metadata": {}
  },
  {
   "cell_type": "code",
   "execution_count": 6,
   "metadata": {},
   "outputs": [
    {
     "output_type": "stream",
     "name": "stdout",
     "text": [
      "data 142.6\ndata1 205.60000000000002\n"
     ]
    }
   ],
   "source": [
    "def arithm_mittel(data):\n",
    "    n = len(data)\n",
    "    sum = 0\n",
    "    for i in range(n):\n",
    "        sum += data[i]\n",
    "    return (1/n) * sum \n",
    "\n",
    "print(\"data\",arithm_mittel(data))\n",
    "print(\"data1\",arithm_mittel(data1))"
   ]
  },
  {
   "source": [
    "### Median\n",
    "\n",
    "Der Median der Messwerte einer Urliste ist derjenige Messwert, der genau „in der Mitte“ steht, wenn man die Messwerte der Größe nach sortiert.\n",
    "\n",
    "Dabei muss der Median nicht in der Stichprobe enthalten sein\n",
    "\n"
   ],
   "cell_type": "markdown",
   "metadata": {}
  },
  {
   "cell_type": "code",
   "execution_count": 7,
   "metadata": {},
   "outputs": [
    {
     "output_type": "stream",
     "name": "stdout",
     "text": [
      "data 140.0\ndata1 140.0\n"
     ]
    }
   ],
   "source": [
    "def median(data):\n",
    "    data.sort() # geordnete Stichprobe\n",
    "\n",
    "    n = len(data)-1\n",
    "\n",
    "    if n % 2 == 0: # falls anzahl an Stichproben gerade\n",
    "        return data[int(n+1/2)]\n",
    "    else:\n",
    "        return 0.5 * (data[int(n/2)]+data[int((n/2) + 1)])\n",
    "\n",
    "print(\"data\",median(data))\n",
    "print(\"data1\",median(data1))"
   ]
  },
  {
   "source": [
    "### alpha-getrimmtes Mittel\n",
    "\n",
    "Dei dem getrimmten Mittelwert wird ein gewisser Anteil (alpha zwischen 0-0.5; 0.1 bedeutet größten 10% und kleinsten 10% weggelassen)der größten und der kleinsten Stichprobenelemente ignoriert. \n",
    "\n",
    "=> Daher ist das getrimmte Mittel robuster als das arithmetische Mittel, verändert sich also weniger bei Modifikationen der Stichprobe."
   ],
   "cell_type": "markdown",
   "metadata": {}
  },
  {
   "cell_type": "code",
   "execution_count": 8,
   "metadata": {},
   "outputs": [
    {
     "output_type": "stream",
     "name": "stdout",
     "text": [
      "data 140.0\ndata1 140.0\n"
     ]
    }
   ],
   "source": [
    "def alpha_getrimmtes_mittel(data,a):\n",
    "    data.sort() #geordnete Stichprobe\n",
    "\n",
    "    n = len(data)\n",
    "    k = math.floor(n * a)\n",
    "\n",
    "    sum = 0\n",
    "    for ki in range(k, n-k):\n",
    "        sum += data[ki]\n",
    "\n",
    "    return (1/(n - 2*k)) * sum\n",
    "\n",
    "print(\"data\", alpha_getrimmtes_mittel(data,a=0.25))\n",
    "print(\"data1\", alpha_getrimmtes_mittel(data1,a=0.25))\n",
    "\n"
   ]
  },
  {
   "source": [
    "### empirische Varinanz\n",
    "\n",
    "mittlere quadrierte Abweichung vom Erwartungswert (hier Mittelwert)"
   ],
   "cell_type": "markdown",
   "metadata": {}
  },
  {
   "cell_type": "code",
   "execution_count": 9,
   "metadata": {},
   "outputs": [
    {
     "output_type": "stream",
     "name": "stdout",
     "text": [
      "data 407.6\ndata1 45333.6\n"
     ]
    }
   ],
   "source": [
    "def emp_varianz(data):\n",
    "    mittel = arithm_mittel(data)\n",
    "    n = len(data)\n",
    "\n",
    "    sum = 0\n",
    "    for i in range(n):\n",
    "        sum += pow((data[i]-mittel),2)\n",
    "    \n",
    "    return round((1/(n-1))*sum,2)\n",
    "\n",
    "print(\"data\",emp_varianz(data))\n",
    "print(\"data1\",emp_varianz(data1))"
   ]
  },
  {
   "source": [
    "### empirische Standardabweichung\n",
    "\n",
    "die mittelere Abweichung vom Erwartungswert, in der Einheit der Zufallsvariable"
   ],
   "cell_type": "markdown",
   "metadata": {}
  },
  {
   "cell_type": "code",
   "execution_count": 11,
   "metadata": {},
   "outputs": [
    {
     "output_type": "stream",
     "name": "stdout",
     "text": [
      "data 20.189105973271822\ndata1 212.916885192321\n"
     ]
    }
   ],
   "source": [
    "def emp_standardabweichung(data):\n",
    "    return math.sqrt(emp_varianz(data))\n",
    "\n",
    "print(\"data\",emp_standardabweichung(data))\n",
    "print(\"data1\",emp_standardabweichung(data1))"
   ]
  },
  {
   "source": [
    "### Quartilsabstand\n",
    "\n",
    "Mittleren Bereich in dem 50% der Werte liegen\n",
    "\n"
   ],
   "cell_type": "markdown",
   "metadata": {}
  },
  {
   "cell_type": "code",
   "execution_count": 13,
   "metadata": {},
   "outputs": [
    {
     "output_type": "stream",
     "name": "stdout",
     "text": [
      "data 35\ndata1 35\n"
     ]
    }
   ],
   "source": [
    "def quartilsabstand(data, p1 , p2):\n",
    "    return emp_quartil(data,p=p1) - emp_quartil(data, p = p2)\n",
    "\n",
    "print(\"data\",quartilsabstand(data,p1=0.75,p2=0.25))\n",
    "print(\"data1\",quartilsabstand(data1,p1=0.75,p2=0.25))"
   ]
  },
  {
   "cell_type": "code",
   "execution_count": null,
   "metadata": {},
   "outputs": [],
   "source": []
  }
 ]
}