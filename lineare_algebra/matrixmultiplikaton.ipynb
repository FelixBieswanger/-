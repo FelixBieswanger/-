{
 "metadata": {
  "language_info": {
   "codemirror_mode": {
    "name": "ipython",
    "version": 3
   },
   "file_extension": ".py",
   "mimetype": "text/x-python",
   "name": "python",
   "nbconvert_exporter": "python",
   "pygments_lexer": "ipython3",
   "version": "3.8.4-final"
  },
  "orig_nbformat": 2,
  "kernelspec": {
   "name": "python3",
   "display_name": "Python 3"
  }
 },
 "nbformat": 4,
 "nbformat_minor": 2,
 "cells": [
  {
   "cell_type": "code",
   "execution_count": 27,
   "metadata": {},
   "outputs": [],
   "source": [
    "import pandas as pd\n",
    "import numpy as np\n",
    "from varname import nameof"
   ]
  },
  {
   "cell_type": "code",
   "execution_count": 53,
   "metadata": {},
   "outputs": [],
   "source": [
    "A = [[-2,-2,1],[0,2,0],[-1,-3,-3],[-2,2,-3]]\n",
    "B = [[-1,-2,-1,1],[0,2,3,2]]\n",
    "C = [[0,2,3,0],[0,-3,2,1],[3,3,-3,-1],[3,0,3,-1]]"
   ]
  },
  {
   "cell_type": "code",
   "execution_count": 66,
   "metadata": {},
   "outputs": [],
   "source": [
    "def matrixmultiplikation(A,B):\n",
    "    print(\"A\")\n",
    "    print(pd.DataFrame(A))\n",
    "    print()\n",
    "    print(\"B\")\n",
    "    print(pd.DataFrame(B))\n",
    "\n",
    "    #spaltenhzahl der ersten = zeilenzahl der zweiten\n",
    "    if len(A[0]) != len(B):\n",
    "        return \"Nicht definiert! (Weil A \"+str(len(A[0]))+\" Spalten und B \"+str(len(B))+ \" Reihen hat)\"\n",
    "\n",
    "    #das product hat so viel spalten wie die zweite && zeilen wie die erste\n",
    "    #für die len(A)=ZeilenZahl von A, packe sublisten mit 0 von der len(B[0]) = SpaltenZahl       von B\n",
    "    C =  [ [ 0 for i in range(len(B[0])) ] for j in range(len(A))]\n",
    "\n",
    "    for i in range(len(A)):\n",
    "        for j in range(len(B[0])):\n",
    "            for k in range(len(A[0])):\n",
    "                C[i][j] += A[i][k] * B[k][j]      \n",
    "            \n",
    "    return pd.DataFrame(C)"
   ]
  },
  {
   "cell_type": "code",
   "execution_count": 67,
   "metadata": {},
   "outputs": [
    {
     "output_type": "stream",
     "name": "stdout",
     "text": [
      "A\n   0  1  2\n0 -2 -2  1\n1  0  2  0\n2 -1 -3 -3\n3 -2  2 -3\n\nB\n   0  1  2  3\n0 -1 -2 -1  1\n1  0  2  3  2\n"
     ]
    },
    {
     "output_type": "execute_result",
     "data": {
      "text/plain": [
       "'Nicht definiert! (Weil A 3 Spalten und B 2 Reihen hat)'"
      ]
     },
     "metadata": {},
     "execution_count": 67
    }
   ],
   "source": [
    "\n",
    "matrixmultiplikation(A,B)"
   ]
  },
  {
   "cell_type": "code",
   "execution_count": 68,
   "metadata": {},
   "outputs": [
    {
     "output_type": "stream",
     "name": "stdout",
     "text": [
      "A\n   0  1  2  3\n0 -1 -2 -1  1\n1  0  2  3  2\n\nB\n   0  1  2\n0 -2 -2  1\n1  0  2  0\n2 -1 -3 -3\n3 -2  2 -3\n"
     ]
    },
    {
     "output_type": "execute_result",
     "data": {
      "text/plain": [
       "   0  1   2\n",
       "0  1  3  -1\n",
       "1 -7 -1 -15"
      ],
      "text/html": "<div>\n<style scoped>\n    .dataframe tbody tr th:only-of-type {\n        vertical-align: middle;\n    }\n\n    .dataframe tbody tr th {\n        vertical-align: top;\n    }\n\n    .dataframe thead th {\n        text-align: right;\n    }\n</style>\n<table border=\"1\" class=\"dataframe\">\n  <thead>\n    <tr style=\"text-align: right;\">\n      <th></th>\n      <th>0</th>\n      <th>1</th>\n      <th>2</th>\n    </tr>\n  </thead>\n  <tbody>\n    <tr>\n      <th>0</th>\n      <td>1</td>\n      <td>3</td>\n      <td>-1</td>\n    </tr>\n    <tr>\n      <th>1</th>\n      <td>-7</td>\n      <td>-1</td>\n      <td>-15</td>\n    </tr>\n  </tbody>\n</table>\n</div>"
     },
     "metadata": {},
     "execution_count": 68
    }
   ],
   "source": [
    "matrixmultiplikation(B,A)"
   ]
  },
  {
   "cell_type": "code",
   "execution_count": 69,
   "metadata": {},
   "outputs": [
    {
     "output_type": "stream",
     "name": "stdout",
     "text": [
      "A\n   0  1  2\n0 -2 -2  1\n1  0  2  0\n2 -1 -3 -3\n3 -2  2 -3\n\nB\n   0  1  2  3\n0  0  2  3  0\n1  0 -3  2  1\n2  3  3 -3 -1\n3  3  0  3 -1\n"
     ]
    },
    {
     "output_type": "execute_result",
     "data": {
      "text/plain": [
       "'Nicht definiert! (Weil A 3 Spalten und B 4 Reihen hat)'"
      ]
     },
     "metadata": {},
     "execution_count": 69
    }
   ],
   "source": [
    "matrixmultiplikation(A,C)"
   ]
  },
  {
   "cell_type": "code",
   "execution_count": 70,
   "metadata": {},
   "outputs": [
    {
     "output_type": "stream",
     "name": "stdout",
     "text": [
      "A\n   0  1  2  3\n0  0  2  3  0\n1  0 -3  2  1\n2  3  3 -3 -1\n3  3  0  3 -1\n\nB\n   0  1  2\n0 -2 -2  1\n1  0  2  0\n2 -1 -3 -3\n3 -2  2 -3\n"
     ]
    },
    {
     "output_type": "execute_result",
     "data": {
      "text/plain": [
       "   0   1   2\n",
       "0 -3  -5  -9\n",
       "1 -4 -10  -9\n",
       "2 -1   7  15\n",
       "3 -7 -17  -3"
      ],
      "text/html": "<div>\n<style scoped>\n    .dataframe tbody tr th:only-of-type {\n        vertical-align: middle;\n    }\n\n    .dataframe tbody tr th {\n        vertical-align: top;\n    }\n\n    .dataframe thead th {\n        text-align: right;\n    }\n</style>\n<table border=\"1\" class=\"dataframe\">\n  <thead>\n    <tr style=\"text-align: right;\">\n      <th></th>\n      <th>0</th>\n      <th>1</th>\n      <th>2</th>\n    </tr>\n  </thead>\n  <tbody>\n    <tr>\n      <th>0</th>\n      <td>-3</td>\n      <td>-5</td>\n      <td>-9</td>\n    </tr>\n    <tr>\n      <th>1</th>\n      <td>-4</td>\n      <td>-10</td>\n      <td>-9</td>\n    </tr>\n    <tr>\n      <th>2</th>\n      <td>-1</td>\n      <td>7</td>\n      <td>15</td>\n    </tr>\n    <tr>\n      <th>3</th>\n      <td>-7</td>\n      <td>-17</td>\n      <td>-3</td>\n    </tr>\n  </tbody>\n</table>\n</div>"
     },
     "metadata": {},
     "execution_count": 70
    }
   ],
   "source": [
    "matrixmultiplikation(C,A)"
   ]
  },
  {
   "cell_type": "code",
   "execution_count": 71,
   "metadata": {},
   "outputs": [
    {
     "output_type": "stream",
     "name": "stdout",
     "text": [
      "A\n   0  1  2  3\n0 -1 -2 -1  1\n1  0  2  3  2\n\nB\n   0  1  2  3\n0  0  2  3  0\n1  0 -3  2  1\n2  3  3 -3 -1\n3  3  0  3 -1\n"
     ]
    },
    {
     "output_type": "execute_result",
     "data": {
      "text/plain": [
       "    0  1  2  3\n",
       "0   0  1 -1 -2\n",
       "1  15  3  1 -3"
      ],
      "text/html": "<div>\n<style scoped>\n    .dataframe tbody tr th:only-of-type {\n        vertical-align: middle;\n    }\n\n    .dataframe tbody tr th {\n        vertical-align: top;\n    }\n\n    .dataframe thead th {\n        text-align: right;\n    }\n</style>\n<table border=\"1\" class=\"dataframe\">\n  <thead>\n    <tr style=\"text-align: right;\">\n      <th></th>\n      <th>0</th>\n      <th>1</th>\n      <th>2</th>\n      <th>3</th>\n    </tr>\n  </thead>\n  <tbody>\n    <tr>\n      <th>0</th>\n      <td>0</td>\n      <td>1</td>\n      <td>-1</td>\n      <td>-2</td>\n    </tr>\n    <tr>\n      <th>1</th>\n      <td>15</td>\n      <td>3</td>\n      <td>1</td>\n      <td>-3</td>\n    </tr>\n  </tbody>\n</table>\n</div>"
     },
     "metadata": {},
     "execution_count": 71
    }
   ],
   "source": [
    "matrixmultiplikation(B,C)"
   ]
  },
  {
   "cell_type": "code",
   "execution_count": 72,
   "metadata": {},
   "outputs": [
    {
     "output_type": "stream",
     "name": "stdout",
     "text": [
      "A\n   0  1  2  3\n0  0  2  3  0\n1  0 -3  2  1\n2  3  3 -3 -1\n3  3  0  3 -1\n\nB\n   0  1  2  3\n0 -1 -2 -1  1\n1  0  2  3  2\n"
     ]
    },
    {
     "output_type": "execute_result",
     "data": {
      "text/plain": [
       "'Nicht definiert! (Weil A 4 Spalten und B 2 Reihen hat)'"
      ]
     },
     "metadata": {},
     "execution_count": 72
    }
   ],
   "source": [
    "matrixmultiplikation(C,B)"
   ]
  },
  {
   "cell_type": "code",
   "execution_count": 73,
   "metadata": {},
   "outputs": [
    {
     "output_type": "stream",
     "name": "stdout",
     "text": [
      "A\n   0  1  2\n0 -2 -2  1\n1  0  2  0\n2 -1 -3 -3\n3 -2  2 -3\n\nB\n   0  1  2\n0 -2 -2  1\n1  0  2  0\n2 -1 -3 -3\n3 -2  2 -3\n"
     ]
    },
    {
     "output_type": "execute_result",
     "data": {
      "text/plain": [
       "'Nicht definiert! (Weil A 3 Spalten und B 4 Reihen hat)'"
      ]
     },
     "metadata": {},
     "execution_count": 73
    }
   ],
   "source": [
    "matrixmultiplikation(A,A)"
   ]
  },
  {
   "cell_type": "code",
   "execution_count": 74,
   "metadata": {},
   "outputs": [
    {
     "output_type": "stream",
     "name": "stdout",
     "text": [
      "A\n   0  1  2  3\n0 -1 -2 -1  1\n1  0  2  3  2\n\nB\n   0  1  2  3\n0 -1 -2 -1  1\n1  0  2  3  2\n"
     ]
    },
    {
     "output_type": "execute_result",
     "data": {
      "text/plain": [
       "'Nicht definiert! (Weil A 4 Spalten und B 2 Reihen hat)'"
      ]
     },
     "metadata": {},
     "execution_count": 74
    }
   ],
   "source": [
    "matrixmultiplikation(B,B)"
   ]
  },
  {
   "cell_type": "code",
   "execution_count": 75,
   "metadata": {},
   "outputs": [
    {
     "output_type": "stream",
     "name": "stdout",
     "text": [
      "A\n   0  1  2  3\n0  0  2  3  0\n1  0 -3  2  1\n2  3  3 -3 -1\n3  3  0  3 -1\n\nB\n   0  1  2  3\n0  0  2  3  0\n1  0 -3  2  1\n2  3  3 -3 -1\n3  3  0  3 -1\n"
     ]
    },
    {
     "output_type": "execute_result",
     "data": {
      "text/plain": [
       "    0   1   2  3\n",
       "0   9   3  -5 -1\n",
       "1   9  15  -9 -6\n",
       "2 -12 -12  21  7\n",
       "3   6  15  -3 -2"
      ],
      "text/html": "<div>\n<style scoped>\n    .dataframe tbody tr th:only-of-type {\n        vertical-align: middle;\n    }\n\n    .dataframe tbody tr th {\n        vertical-align: top;\n    }\n\n    .dataframe thead th {\n        text-align: right;\n    }\n</style>\n<table border=\"1\" class=\"dataframe\">\n  <thead>\n    <tr style=\"text-align: right;\">\n      <th></th>\n      <th>0</th>\n      <th>1</th>\n      <th>2</th>\n      <th>3</th>\n    </tr>\n  </thead>\n  <tbody>\n    <tr>\n      <th>0</th>\n      <td>9</td>\n      <td>3</td>\n      <td>-5</td>\n      <td>-1</td>\n    </tr>\n    <tr>\n      <th>1</th>\n      <td>9</td>\n      <td>15</td>\n      <td>-9</td>\n      <td>-6</td>\n    </tr>\n    <tr>\n      <th>2</th>\n      <td>-12</td>\n      <td>-12</td>\n      <td>21</td>\n      <td>7</td>\n    </tr>\n    <tr>\n      <th>3</th>\n      <td>6</td>\n      <td>15</td>\n      <td>-3</td>\n      <td>-2</td>\n    </tr>\n  </tbody>\n</table>\n</div>"
     },
     "metadata": {},
     "execution_count": 75
    }
   ],
   "source": [
    "matrixmultiplikation(C,C)"
   ]
  }
 ]
}